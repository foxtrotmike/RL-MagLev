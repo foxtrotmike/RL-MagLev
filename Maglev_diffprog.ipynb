{
  "nbformat": 4,
  "nbformat_minor": 0,
  "metadata": {
    "colab": {
      "name": "Maglev-diffprog.ipynb",
      "provenance": [],
      "authorship_tag": "ABX9TyOExjk9AgGCzpqaz4wQYb0t",
      "include_colab_link": true
    },
    "kernelspec": {
      "name": "python3",
      "display_name": "Python 3"
    },
    "widgets": {
      "application/vnd.jupyter.widget-state+json": {
        "8d31cf29e54d45c1aa83330a12b1ef92": {
          "model_module": "@jupyter-widgets/controls",
          "model_name": "HBoxModel",
          "state": {
            "_view_name": "HBoxView",
            "_dom_classes": [],
            "_model_name": "HBoxModel",
            "_view_module": "@jupyter-widgets/controls",
            "_model_module_version": "1.5.0",
            "_view_count": null,
            "_view_module_version": "1.5.0",
            "box_style": "",
            "layout": "IPY_MODEL_18c0cfe7996a40788f76e4da8bac612f",
            "_model_module": "@jupyter-widgets/controls",
            "children": [
              "IPY_MODEL_1b75a5fa006241cb8a1879cdf50358aa",
              "IPY_MODEL_eefba7b9b6ce4f2e9f96845ecbd8db85"
            ]
          }
        },
        "18c0cfe7996a40788f76e4da8bac612f": {
          "model_module": "@jupyter-widgets/base",
          "model_name": "LayoutModel",
          "state": {
            "_view_name": "LayoutView",
            "grid_template_rows": null,
            "right": null,
            "justify_content": null,
            "_view_module": "@jupyter-widgets/base",
            "overflow": null,
            "_model_module_version": "1.2.0",
            "_view_count": null,
            "flex_flow": null,
            "width": null,
            "min_width": null,
            "border": null,
            "align_items": null,
            "bottom": null,
            "_model_module": "@jupyter-widgets/base",
            "top": null,
            "grid_column": null,
            "overflow_y": null,
            "overflow_x": null,
            "grid_auto_flow": null,
            "grid_area": null,
            "grid_template_columns": null,
            "flex": null,
            "_model_name": "LayoutModel",
            "justify_items": null,
            "grid_row": null,
            "max_height": null,
            "align_content": null,
            "visibility": null,
            "align_self": null,
            "height": null,
            "min_height": null,
            "padding": null,
            "grid_auto_rows": null,
            "grid_gap": null,
            "max_width": null,
            "order": null,
            "_view_module_version": "1.2.0",
            "grid_template_areas": null,
            "object_position": null,
            "object_fit": null,
            "grid_auto_columns": null,
            "margin": null,
            "display": null,
            "left": null
          }
        },
        "1b75a5fa006241cb8a1879cdf50358aa": {
          "model_module": "@jupyter-widgets/controls",
          "model_name": "FloatProgressModel",
          "state": {
            "_view_name": "ProgressView",
            "style": "IPY_MODEL_3c5bb1a1b5af430a8c486dc277060f34",
            "_dom_classes": [],
            "description": "100%",
            "_model_name": "FloatProgressModel",
            "bar_style": "success",
            "max": 200,
            "_view_module": "@jupyter-widgets/controls",
            "_model_module_version": "1.5.0",
            "value": 200,
            "_view_count": null,
            "_view_module_version": "1.5.0",
            "orientation": "horizontal",
            "min": 0,
            "description_tooltip": null,
            "_model_module": "@jupyter-widgets/controls",
            "layout": "IPY_MODEL_8ecea440da434bae9392412cd9165380"
          }
        },
        "eefba7b9b6ce4f2e9f96845ecbd8db85": {
          "model_module": "@jupyter-widgets/controls",
          "model_name": "HTMLModel",
          "state": {
            "_view_name": "HTMLView",
            "style": "IPY_MODEL_8246f190eb3e4ce8ba055db4ebcbe3d7",
            "_dom_classes": [],
            "description": "",
            "_model_name": "HTMLModel",
            "placeholder": "​",
            "_view_module": "@jupyter-widgets/controls",
            "_model_module_version": "1.5.0",
            "value": " 200/200 [00:16&lt;00:00, 12.15it/s]",
            "_view_count": null,
            "_view_module_version": "1.5.0",
            "description_tooltip": null,
            "_model_module": "@jupyter-widgets/controls",
            "layout": "IPY_MODEL_cde24be5861f48b68633ab1e90ddfe5e"
          }
        },
        "3c5bb1a1b5af430a8c486dc277060f34": {
          "model_module": "@jupyter-widgets/controls",
          "model_name": "ProgressStyleModel",
          "state": {
            "_view_name": "StyleView",
            "_model_name": "ProgressStyleModel",
            "description_width": "initial",
            "_view_module": "@jupyter-widgets/base",
            "_model_module_version": "1.5.0",
            "_view_count": null,
            "_view_module_version": "1.2.0",
            "bar_color": null,
            "_model_module": "@jupyter-widgets/controls"
          }
        },
        "8ecea440da434bae9392412cd9165380": {
          "model_module": "@jupyter-widgets/base",
          "model_name": "LayoutModel",
          "state": {
            "_view_name": "LayoutView",
            "grid_template_rows": null,
            "right": null,
            "justify_content": null,
            "_view_module": "@jupyter-widgets/base",
            "overflow": null,
            "_model_module_version": "1.2.0",
            "_view_count": null,
            "flex_flow": null,
            "width": null,
            "min_width": null,
            "border": null,
            "align_items": null,
            "bottom": null,
            "_model_module": "@jupyter-widgets/base",
            "top": null,
            "grid_column": null,
            "overflow_y": null,
            "overflow_x": null,
            "grid_auto_flow": null,
            "grid_area": null,
            "grid_template_columns": null,
            "flex": null,
            "_model_name": "LayoutModel",
            "justify_items": null,
            "grid_row": null,
            "max_height": null,
            "align_content": null,
            "visibility": null,
            "align_self": null,
            "height": null,
            "min_height": null,
            "padding": null,
            "grid_auto_rows": null,
            "grid_gap": null,
            "max_width": null,
            "order": null,
            "_view_module_version": "1.2.0",
            "grid_template_areas": null,
            "object_position": null,
            "object_fit": null,
            "grid_auto_columns": null,
            "margin": null,
            "display": null,
            "left": null
          }
        },
        "8246f190eb3e4ce8ba055db4ebcbe3d7": {
          "model_module": "@jupyter-widgets/controls",
          "model_name": "DescriptionStyleModel",
          "state": {
            "_view_name": "StyleView",
            "_model_name": "DescriptionStyleModel",
            "description_width": "",
            "_view_module": "@jupyter-widgets/base",
            "_model_module_version": "1.5.0",
            "_view_count": null,
            "_view_module_version": "1.2.0",
            "_model_module": "@jupyter-widgets/controls"
          }
        },
        "cde24be5861f48b68633ab1e90ddfe5e": {
          "model_module": "@jupyter-widgets/base",
          "model_name": "LayoutModel",
          "state": {
            "_view_name": "LayoutView",
            "grid_template_rows": null,
            "right": null,
            "justify_content": null,
            "_view_module": "@jupyter-widgets/base",
            "overflow": null,
            "_model_module_version": "1.2.0",
            "_view_count": null,
            "flex_flow": null,
            "width": null,
            "min_width": null,
            "border": null,
            "align_items": null,
            "bottom": null,
            "_model_module": "@jupyter-widgets/base",
            "top": null,
            "grid_column": null,
            "overflow_y": null,
            "overflow_x": null,
            "grid_auto_flow": null,
            "grid_area": null,
            "grid_template_columns": null,
            "flex": null,
            "_model_name": "LayoutModel",
            "justify_items": null,
            "grid_row": null,
            "max_height": null,
            "align_content": null,
            "visibility": null,
            "align_self": null,
            "height": null,
            "min_height": null,
            "padding": null,
            "grid_auto_rows": null,
            "grid_gap": null,
            "max_width": null,
            "order": null,
            "_view_module_version": "1.2.0",
            "grid_template_areas": null,
            "object_position": null,
            "object_fit": null,
            "grid_auto_columns": null,
            "margin": null,
            "display": null,
            "left": null
          }
        }
      }
    }
  },
  "cells": [
    {
      "cell_type": "markdown",
      "metadata": {
        "id": "view-in-github",
        "colab_type": "text"
      },
      "source": [
        "<a href=\"https://colab.research.google.com/github/foxtrotmike/RL-MagLev/blob/master/Maglev_diffprog.ipynb\" target=\"_parent\"><img src=\"https://colab.research.google.com/assets/colab-badge.svg\" alt=\"Open In Colab\"/></a>"
      ]
    },
    {
      "cell_type": "markdown",
      "metadata": {
        "id": "spbh2QCBefpr",
        "colab_type": "text"
      },
      "source": [
        "# A differentiable programming approach to (basic) magnetic levitation\n",
        "## By Fayyaz Minhas\n",
        "\n",
        "Consider a metallic ball of mass $m$ at positiopn $x_i = x(t)$ moving with velocity $v_i = v(t)$ at time $t$ which is acted upon by gravity in the downwards direction and a fixed force $F$ in the upward direction resulting from a controllable electromagnet which is used to control the position of the ball along the vertical. The output of the magnet at a given time is modeled as $A_i = A(t)\\in[0,1]$. Thus, a net force $A(t)F-mg$ causes acceleration $a_{i} = a(t)=(A(t)F-mg)/m$ in the mass which, in a small time step $\\delta = 0.05$, changes the velocity and position of the ball to $v_{i+1}=v(t+\\delta) = v(t)+a(t)\\delta$ and $x_{i+1}=x(t+\\delta) = x(t)+v(t)\\delta+0.5a(t)\\delta^2$. Thus far we have modeled the physics of the problem. The state of the system can be described by a vector $(v(t),x(t))$ which is dependent upon the previous state and the action taken then. We want to control the system by controlling the electromagnetic output so that the mass reaches a desired vertical target position ($x^*\\in[0,10]$). We achieve this through differentiable programming in which we simulate the system together with a controller function $f$ with trainable parameters $\\theta$ that produces $A(t)=f(x(t),v(t);\\theta)$. The differentiable programming implementation minimizes the error between the current and target position over a number of steps and across multiple episodes with different targets and starting states. This is done by minimizing the following error function for a given episode$\\min_{\\theta} \\frac{1}{T}\\sum_{j=1}^{T}j\\times |x_{j}-x^*$| over $T$ time steps. Note that this error function emphasizes errors at later timesteps within an episode to penalize steady state errors. \n"
      ]
    },
    {
      "cell_type": "code",
      "metadata": {
        "id": "qHZ7ByaoeZbM",
        "colab_type": "code",
        "colab": {
          "base_uri": "https://localhost:8080/",
          "height": 959,
          "referenced_widgets": [
            "8d31cf29e54d45c1aa83330a12b1ef92",
            "18c0cfe7996a40788f76e4da8bac612f",
            "1b75a5fa006241cb8a1879cdf50358aa",
            "eefba7b9b6ce4f2e9f96845ecbd8db85",
            "3c5bb1a1b5af430a8c486dc277060f34",
            "8ecea440da434bae9392412cd9165380",
            "8246f190eb3e4ce8ba055db4ebcbe3d7",
            "cde24be5861f48b68633ab1e90ddfe5e"
          ]
        },
        "outputId": "259f5463-6215-467f-b3e6-8bb440265a8b"
      },
      "source": [
        "\n",
        "import random\n",
        "import torch\n",
        "import torch.nn as nn\n",
        "import torch.optim as optim\n",
        "import matplotlib.pyplot as plt\n",
        "import numpy as np\n",
        "FloatTensor = torch.FloatTensor\n",
        "from tqdm.notebook import tqdm\n",
        "\n",
        "def step(state,action):\n",
        "    \"\"\"\n",
        "    Simulate the environment (in a differentiable manner)\n",
        "\n",
        "    Parameters\n",
        "    ----------\n",
        "    state : TYPE\n",
        "        state = position,veolocity,target.\n",
        "    action : TYPE\n",
        "        Action to perform.\n",
        "\n",
        "    Returns\n",
        "    -------\n",
        "    obs : TYPE\n",
        "        New observation state.\n",
        "\n",
        "    \"\"\"\n",
        "    \n",
        "    m = 1.0\n",
        "    g = 9.8\n",
        "    F = 2*g \n",
        "    dt = 0.05 #sampling time\n",
        " \n",
        "    state = state#+0.1*(2*torch.rand(state.shape)-1)\n",
        "    x0,v0,tt = state[0],state[1],state[2:]\n",
        "    \n",
        "    \n",
        "    a = ( ( action*F/m ) - g )\n",
        "     \n",
        "    dv = ( a * dt )\n",
        "    v = v0 + dv\n",
        "    dx = ( v0 * dt ) + 0.5 * (a * dt**2) \n",
        "    x = x0 + dx\n",
        "    x = torch.clamp(x,0,10)\n",
        "    obs = torch.cat((x, v,tt), 0)\n",
        "    return obs\n",
        "\n",
        "class Network(nn.Module):\n",
        "    def __init__(self):\n",
        "        nn.Module.__init__(self)\n",
        "        self.l1 = nn.Linear(3, 24)\n",
        "        self.l3 = nn.Linear(24, 1)\n",
        "        \n",
        "\n",
        "    def forward(self, x):\n",
        "        x = torch.tanh(self.l1(x))\n",
        "        x = self.l3(x)\n",
        "        x = x\n",
        "        x = torch.clamp(x,0,1.0) #rises by own power, drops by gravity\n",
        "        return x\n",
        "    \n",
        "\n",
        "model = Network()\n",
        "optimizer_tloss = optim.Adam(model.parameters(), 1e-2)\n",
        "\n",
        "model.train()\n",
        "for e in tqdm(range(200)):\n",
        "    x0 = random.randint(0,10)\n",
        "    v0 = (2*np.random.rand()-1)*10\n",
        "    target = np.random.rand()*10\n",
        "    state = FloatTensor(np.asarray((x0,v0,target)))\n",
        "    tloss = 0    \n",
        "    for t in range(150): #single episode consists of steps with fixed tgt\n",
        "        action = model(state)\n",
        "        state = step(state,action)        \n",
        "        loss = torch.abs(state[0]-target)#+action**2#+state[1]**2 \n",
        "        tloss+=loss#((t+1)/150)*\n",
        "\n",
        "    tloss=(((e+1)/200))*tloss       #penalize errors in later episodes more - the model should have learned!\n",
        "\n",
        "    optimizer_tloss.zero_grad()\n",
        "    tloss.backward(retain_graph = True)\n",
        "    optimizer_tloss.step()\n",
        "    if e%10 == 0: print(e,loss,tloss)\n",
        "    \n",
        "    \n",
        "#%% Evaluation\n",
        "model.eval()\n",
        "state = FloatTensor(np.asarray((0,0,0)))\n",
        "S = []\n",
        "A = []\n",
        "for t in range(300):    \n",
        "    S.append(state.detach().numpy())\n",
        "\n",
        "    if t%75==0: # change target every 75 iters\n",
        "        target = 5#np.random.rand()*8+1\n",
        "        state[-1] = target        \n",
        "\n",
        "    action = model(state)#FloatTensor(np.asarray([0.55]));#\n",
        "    a = action\n",
        "    #a = action.detach().numpy()\n",
        "    A.append(a)\n",
        "    state = step(state,action)\n",
        "S = np.array(S)\n",
        "A = np.array(A)\n",
        "plt.plot(S);plt.plot(A,'k');\n",
        "plt.grid();plt.xlabel('time sample');plt.ylabel('Value');plt.legend(['Position','Velocity','Target','Action'])\n",
        "\n",
        "#%% policy and state space plot\n",
        "x = np.linspace(np.min(S[:,0])-0.5, np.max(S[:,0])+0.5, 50)\n",
        "v = np.linspace(np.min(S[:,1])-0.5, np.max(S[:,1])+0.5, 50)\n",
        "\n",
        "A = np.zeros((len(x),len(v)))\n",
        "for i,xi in enumerate(x):\n",
        "    for j,vj in enumerate(v):\n",
        "        A[i,j] = model(FloatTensor([xi,vj,target])).data.numpy()[0]\n",
        "plt.figure()\n",
        "contours = plt.contourf(v,x,A,levels=np.linspace(0,1,11),cmap='Blues');plt.colorbar()\n",
        "plt.xlabel(\"v\"); plt.ylabel(\"x\")\n",
        "plt.scatter(S[:,1],S[:,0],c='r'); plt.plot(S[0,1],S[0,0],c = 'k', marker ='*'); plt.scatter(S[-1,1],S[-1,0],c = 'k', marker ='s')"
      ],
      "execution_count": 1,
      "outputs": [
        {
          "output_type": "display_data",
          "data": {
            "application/vnd.jupyter.widget-view+json": {
              "model_id": "8d31cf29e54d45c1aa83330a12b1ef92",
              "version_minor": 0,
              "version_major": 2
            },
            "text/plain": [
              "HBox(children=(FloatProgress(value=0.0, max=200.0), HTML(value='')))"
            ]
          },
          "metadata": {
            "tags": []
          }
        },
        {
          "output_type": "stream",
          "text": [
            "0 tensor(2.7439, grad_fn=<AbsBackward>) tensor(2.6581, grad_fn=<MulBackward0>)\n",
            "10 tensor(0.6503, grad_fn=<AbsBackward>) tensor(14.9942, grad_fn=<MulBackward0>)\n",
            "20 tensor(0.7758, grad_fn=<AbsBackward>) tensor(22.7506, grad_fn=<MulBackward0>)\n",
            "30 tensor(0.0919, grad_fn=<AbsBackward>) tensor(37.5149, grad_fn=<MulBackward0>)\n",
            "40 tensor(0.0701, grad_fn=<AbsBackward>) tensor(61.0993, grad_fn=<MulBackward0>)\n",
            "50 tensor(0.3298, grad_fn=<AbsBackward>) tensor(12.3308, grad_fn=<MulBackward0>)\n",
            "60 tensor(0.2378, grad_fn=<AbsBackward>) tensor(76.7680, grad_fn=<MulBackward0>)\n",
            "70 tensor(0.4991, grad_fn=<AbsBackward>) tensor(48.0075, grad_fn=<MulBackward0>)\n",
            "80 tensor(0.1734, grad_fn=<AbsBackward>) tensor(51.6089, grad_fn=<MulBackward0>)\n",
            "90 tensor(0.1413, grad_fn=<AbsBackward>) tensor(95.4949, grad_fn=<MulBackward0>)\n",
            "100 tensor(0.1375, grad_fn=<AbsBackward>) tensor(9.8073, grad_fn=<MulBackward0>)\n",
            "110 tensor(0.5113, grad_fn=<AbsBackward>) tensor(64.9056, grad_fn=<MulBackward0>)\n",
            "120 tensor(0.0528, grad_fn=<AbsBackward>) tensor(26.0313, grad_fn=<MulBackward0>)\n",
            "130 tensor(0.7448, grad_fn=<AbsBackward>) tensor(237.7274, grad_fn=<MulBackward0>)\n",
            "140 tensor(0.3170, grad_fn=<AbsBackward>) tensor(139.2276, grad_fn=<MulBackward0>)\n",
            "150 tensor(0.1895, grad_fn=<AbsBackward>) tensor(63.7924, grad_fn=<MulBackward0>)\n",
            "160 tensor(0.0880, grad_fn=<AbsBackward>) tensor(42.7860, grad_fn=<MulBackward0>)\n",
            "170 tensor(0.3325, grad_fn=<AbsBackward>) tensor(73.7566, grad_fn=<MulBackward0>)\n",
            "180 tensor(0.1340, grad_fn=<AbsBackward>) tensor(72.4355, grad_fn=<MulBackward0>)\n",
            "190 tensor(0.0003, grad_fn=<AbsBackward>) tensor(240.0379, grad_fn=<MulBackward0>)\n",
            "\n"
          ],
          "name": "stdout"
        },
        {
          "output_type": "execute_result",
          "data": {
            "text/plain": [
              "<matplotlib.collections.PathCollection at 0x7fe6a34e20f0>"
            ]
          },
          "metadata": {
            "tags": []
          },
          "execution_count": 1
        },
        {
          "output_type": "display_data",
          "data": {
            "image/png": "[encoded data removed]",
            "text/plain": [
              "<Figure size 432x288 with 1 Axes>"
            ]
          },
          "metadata": {
            "tags": [],
            "needs_background": "light"
          }
        },
        {
          "output_type": "display_data",
          "data": {
            "image/png": "[encoded data removed]",
            "text/plain": [
              "<Figure size 432x288 with 2 Axes>"
            ]
          },
          "metadata": {
            "tags": [],
            "needs_background": "light"
          }
        }
      ]
    },
    {
      "cell_type": "markdown",
      "metadata": {
        "id": "6u5psLU9uAmO",
        "colab_type": "text"
      },
      "source": [
        "The computational graph of this model can be visualized (for small $T$) by the following code to reveal that the final output depends on the parameters of the model at all time steps. "
      ]
    },
    {
      "cell_type": "code",
      "metadata": {
        "id": "jymskq3Pt_3T",
        "colab_type": "code",
        "colab": {
          "base_uri": "https://localhost:8080/",
          "height": 260
        },
        "outputId": "f4a089fb-44b7-4edc-8328-7abffe3c0703"
      },
      "source": [
        "!pip install torchviz\n",
        "from torchviz import make_dot\n",
        "make_dot(tloss,params=dict(model.named_parameters()))"
      ],
      "execution_count": null,
      "outputs": [
        {
          "output_type": "stream",
          "text": [
            "Collecting torchviz\n",
            "\u001b[?25l  Downloading https://files.pythonhosted.org/packages/8f/8e/a9630c7786b846d08b47714dd363a051f5e37b4ea0e534460d8cdfc1644b/torchviz-0.0.1.tar.gz (41kB)\n",
            "\r\u001b[K     |████████                        | 10kB 17.4MB/s eta 0:00:01\r\u001b[K     |████████████████                | 20kB 1.6MB/s eta 0:00:01\r\u001b[K     |███████████████████████▉        | 30kB 2.1MB/s eta 0:00:01\r\u001b[K     |███████████████████████████████▉| 40kB 2.5MB/s eta 0:00:01\r\u001b[K     |████████████████████████████████| 51kB 2.0MB/s \n",
            "\u001b[?25hRequirement already satisfied: torch in /usr/local/lib/python3.6/dist-packages (from torchviz) (1.6.0+cu101)\n",
            "Requirement already satisfied: graphviz in /usr/local/lib/python3.6/dist-packages (from torchviz) (0.10.1)\n",
            "Requirement already satisfied: numpy in /usr/local/lib/python3.6/dist-packages (from torch->torchviz) (1.18.5)\n",
            "Requirement already satisfied: future in /usr/local/lib/python3.6/dist-packages (from torch->torchviz) (0.16.0)\n",
            "Building wheels for collected packages: torchviz\n",
            "  Building wheel for torchviz (setup.py) ... \u001b[?25l\u001b[?25hdone\n",
            "  Created wheel for torchviz: filename=torchviz-0.0.1-cp36-none-any.whl size=3523 sha256=b8bd5c315d033d58685efaff0dbccac75eda654f9a2b0aaad1b99e273bb4f5e5\n",
            "  Stored in directory: /root/.cache/pip/wheels/2a/c2/c5/b8b4d0f7992c735f6db5bfa3c5f354cf36502037ca2b585667\n",
            "Successfully built torchviz\n",
            "Installing collected packages: torchviz\n",
            "Successfully installed torchviz-0.0.1\n"
          ],
          "name": "stdout"
        }
      ]
    },
    {
      "cell_type": "code",
      "metadata": {
        "id": "KyF5qe5CukiH",
        "colab_type": "code",
        "colab": {}
      },
      "source": [
        ""
      ],
      "execution_count": null,
      "outputs": []
    }
  ]
}